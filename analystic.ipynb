{
 "cells": [
  {
   "cell_type": "code",
   "execution_count": null,
   "id": "67f65ff2",
   "metadata": {},
   "outputs": [],
   "source": [
    "import os\n",
    "import pandas as pd\n",
    "import numpy as np\n"
   ]
  },
  {
   "cell_type": "code",
   "execution_count": 24,
   "id": "25ec47f5",
   "metadata": {},
   "outputs": [],
   "source": [
    "import crawl"
   ]
  },
  {
   "cell_type": "code",
   "execution_count": 26,
   "id": "1a30ae24",
   "metadata": {},
   "outputs": [],
   "source": [
    "# 데이터가 존재할 경우 CSV 파일을 읽어 DataFrame으로 변환\n",
    "if os.path.exists('./crawled_data.csv'):\n",
    "    # CSV 파일을 읽어 DataFrame으로 변환\n",
    "    with open('./crawled_data.csv', 'r', encoding='utf-8') as f:\n",
    "        contents = pd.read_csv(f)"
   ]
  },
  {
   "cell_type": "code",
   "execution_count": 27,
   "id": "df8c1568",
   "metadata": {},
   "outputs": [
    {
     "data": {
      "text/plain": [
       "'오늘 아이돌봄 서비스를 처음 이용했습니다오후6시에서 오후9시까지 봐주셨습니다\\u200b여아 5세아이 6시하원도와주시고 집에서 저녁식사 챙겨주셨어요아이 식사도 챙겨주시고 같이 그림도 그려주신게 너무 좋았는데요퇴근후 집에서 뵐때 아이 밥 차려주면서 본인 저녁식사도 같이 하셨다고 하시더라구요\\u200b미리 말안해주셔서 살짝 당황스럽긴 했는데요  돌봄 선생님 말로는 원래 다 그렇게 같이 차려먹는다고 하시고 간식이나 과일도 같이 먹는다고 하시네요다른 카페글은 각자 챙겨오신다고 하네요..\\u200b고기나 야채 사두면 알아서 국이나 반찬 요리해서 아이랑 먹겠다고 하시는데 원래 이렇게 진행되는게 맞을까요?\\u200b다른 돌봄 선생님들도 다 똑같다고 하셔서..혹시 선배맘님들 아이돌봄 서비스 이용하실때 어떻게 이용하세요? 궁금합니당 ㅠㅠ\\u200b\\u200b\\u200b\\u200b\\u200b\\u200b\\u200b🧡천안.아산의 모든정보와 살아가는 이야기가 모여있는 온라인 커뮤니티 [천안아산줌마렐라]'"
      ]
     },
     "execution_count": 27,
     "metadata": {},
     "output_type": "execute_result"
    }
   ],
   "source": [
    "contents['content'][0]"
   ]
  },
  {
   "cell_type": "code",
   "execution_count": 28,
   "id": "73250f4f",
   "metadata": {},
   "outputs": [],
   "source": [
    "from konlpy.tag import Okt\n",
    "from collections import Counter\n",
    "import re\n",
    "\n",
    "def okt_func(df, tag):\n",
    "    # 크롤링한 전체 글 모음\n",
    "    texts = df[tag].tolist()\n",
    "\n",
    "    # None/NaN 제거 + 전부 str 타입으로 변환\n",
    "    texts = [str(t) for t in texts if pd.notnull(t)]\n",
    "\n",
    "    text = ' '.join(texts)\n",
    "\n",
    "    # 간단한 정제 (이모지/특수문자 제거)\n",
    "    text = re.sub(r'[^가-힣\\s]', '', text)\n",
    "\n",
    "    # 형태소 분석\n",
    "    okt = Okt()\n",
    "    nouns = okt.nouns(text)\n",
    "\n",
    "    # 필터링 한 글자 제외\n",
    "    filtered = [word for word in nouns if len(word) > 1]\n",
    "\n",
    "    # 단어 빈도수 계산\n",
    "    word_count = Counter(filtered)\n",
    "    top_words = word_count.most_common(50)\n",
    "\n",
    "    # 출력\n",
    "    for word, freq in top_words:\n",
    "        print(f'[{word}] : {freq}회')"
   ]
  },
  {
   "cell_type": "code",
   "execution_count": 29,
   "id": "9face17c",
   "metadata": {},
   "outputs": [
    {
     "name": "stdout",
     "output_type": "stream",
     "text": [
      "[서비스] : 1188회\n",
      "[아이] : 725회\n",
      "[아이돌] : 596회\n",
      "[신청] : 531회\n",
      "[이용] : 495회\n",
      "[시간] : 387회\n",
      "[지원] : 379회\n",
      "[정부] : 275회\n",
      "[선생님] : 273회\n",
      "[가정] : 261회\n",
      "[센터] : 219회\n",
      "[아동] : 178회\n",
      "[어린이집] : 159회\n",
      "[소득] : 159회\n",
      "[개월] : 155회\n",
      "[기준] : 127회\n",
      "[가족] : 125회\n",
      "[경우] : 118회\n",
      "[부모] : 117회\n",
      "[보미] : 114회\n",
      "[맞벌이] : 111회\n",
      "[정도] : 106회\n",
      "[대상] : 104회\n",
      "[이하] : 103회\n",
      "[시간제] : 102회\n",
      "[둘째] : 102회\n",
      "[부담] : 99회\n",
      "[하원] : 94회\n",
      "[기관] : 91회\n",
      "[아기] : 91회\n",
      "[첫째] : 89회\n",
      "[제공] : 85회\n",
      "[대기] : 80회\n",
      "[사업] : 79회\n",
      "[양육] : 74회\n",
      "[장애] : 72회\n",
      "[혹시] : 71회\n",
      "[확인] : 71회\n",
      "[보육] : 70회\n",
      "[가구] : 69회\n",
      "[자녀] : 69회\n",
      "[공백] : 66회\n",
      "[유형] : 66회\n",
      "[지금] : 66회\n",
      "[내용] : 65회\n",
      "[기간] : 64회\n",
      "[만원] : 63회\n",
      "[일제] : 61회\n",
      "[한부모] : 60회\n",
      "[남편] : 60회\n"
     ]
    }
   ],
   "source": [
    "okt_func(contents, 'content')"
   ]
  },
  {
   "cell_type": "code",
   "execution_count": 30,
   "id": "e9793e41",
   "metadata": {},
   "outputs": [
    {
     "name": "stdout",
     "output_type": "stream",
     "text": [
      "[서비스] : 455회\n",
      "[아이돌] : 433회\n",
      "[이용] : 90회\n",
      "[지원] : 44회\n",
      "[아이] : 39회\n",
      "[정부] : 33회\n",
      "[신청] : 32회\n",
      "[신분] : 29회\n",
      "[질문] : 19회\n",
      "[문의] : 17회\n",
      "[센터] : 16회\n",
      "[시간] : 16회\n",
      "[선생님] : 15회\n",
      "[안내] : 15회\n",
      "[어린이집] : 14회\n",
      "[가족] : 12회\n",
      "[가정] : 11회\n",
      "[도우미] : 10회\n",
      "[대기] : 9회\n",
      "[시간제] : 8회\n",
      "[파주시] : 8회\n",
      "[아시] : 8회\n",
      "[자녀] : 8회\n",
      "[소득] : 8회\n",
      "[기관] : 7회\n",
      "[제로] : 7회\n",
      "[공모전] : 7회\n",
      "[확대] : 7회\n",
      "[아동] : 7회\n",
      "[사용] : 7회\n",
      "[취소] : 7회\n",
      "[방법] : 6회\n",
      "[제공] : 6회\n",
      "[시급] : 6회\n",
      "[확정] : 6회\n",
      "[인부] : 6회\n",
      "[수기] : 6회\n",
      "[등원] : 6회\n",
      "[개월] : 6회\n",
      "[관련] : 6회\n",
      "[아기] : 6회\n",
      "[가요] : 6회\n",
      "[캐릭터] : 5회\n",
      "[기준] : 5회\n",
      "[일제] : 5회\n",
      "[비용] : 5회\n",
      "[부모] : 5회\n",
      "[하원] : 5회\n",
      "[맞벌이] : 5회\n",
      "[재판정] : 5회\n"
     ]
    }
   ],
   "source": [
    "okt_func(contents, 'title')"
   ]
  },
  {
   "cell_type": "code",
   "execution_count": 31,
   "id": "b030b590",
   "metadata": {},
   "outputs": [
    {
     "name": "stdout",
     "output_type": "stream",
     "text": [
      "[신청] : 121회\n",
      "[선생님] : 90회\n",
      "[아이] : 81회\n",
      "[시간] : 77회\n",
      "[서비스] : 75회\n",
      "[이용] : 72회\n",
      "[댓글] : 72회\n",
      "[센터] : 55회\n",
      "[아이돌] : 41회\n",
      "[대기] : 40회\n",
      "[지원] : 33회\n",
      "[어린이집] : 32회\n",
      "[정부] : 29회\n",
      "[매칭] : 27회\n",
      "[소득] : 24회\n",
      "[연락] : 22회\n",
      "[상담] : 20회\n",
      "[정보] : 20회\n",
      "[배정] : 20회\n",
      "[주민] : 19회\n",
      "[개월] : 19회\n",
      "[하원] : 18회\n",
      "[판정] : 17회\n",
      "[지역] : 17회\n",
      "[문의] : 17회\n",
      "[지금] : 16회\n",
      "[아기] : 16회\n",
      "[맞벌이] : 16회\n",
      "[둘째] : 16회\n",
      "[시간대] : 16회\n",
      "[시간제] : 16회\n",
      "[바로] : 15회\n",
      "[정기] : 15회\n",
      "[생각] : 13회\n",
      "[등급] : 13회\n",
      "[저희] : 13회\n",
      "[기준] : 13회\n",
      "[자녀] : 13회\n",
      "[등원] : 12회\n",
      "[동사무소] : 12회\n",
      "[경우] : 12회\n",
      "[유형] : 12회\n",
      "[준비] : 11회\n",
      "[는걸] : 11회\n",
      "[먼저] : 11회\n",
      "[정말] : 11회\n",
      "[시작] : 11회\n",
      "[사용] : 11회\n",
      "[전화] : 11회\n",
      "[달라] : 11회\n"
     ]
    }
   ],
   "source": [
    "okt_func(contents, 'reply')"
   ]
  },
  {
   "cell_type": "code",
   "execution_count": null,
   "id": "81c29481",
   "metadata": {},
   "outputs": [],
   "source": []
  }
 ],
 "metadata": {
  "kernelspec": {
   "display_name": "Python 3",
   "language": "python",
   "name": "python3"
  },
  "language_info": {
   "codemirror_mode": {
    "name": "ipython",
    "version": 3
   },
   "file_extension": ".py",
   "mimetype": "text/x-python",
   "name": "python",
   "nbconvert_exporter": "python",
   "pygments_lexer": "ipython3",
   "version": "3.13.2"
  }
 },
 "nbformat": 4,
 "nbformat_minor": 5
}
